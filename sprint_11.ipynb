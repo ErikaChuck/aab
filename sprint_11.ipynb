{
 "cells": [
  {
   "cell_type": "markdown",
   "metadata": {},
   "source": [
    "----"
   ]
  },
  {
   "cell_type": "markdown",
   "metadata": {},
   "source": [
    "Trabajas en una empresa emergente que vende productos alimenticios. Debes investigar el comportamiento del usuario para la aplicación de la empresa."
   ]
  },
  {
   "cell_type": "markdown",
   "metadata": {},
   "source": [
    "## Abrir el archivo de datos y leer la información general"
   ]
  },
  {
   "cell_type": "code",
   "execution_count": null,
   "metadata": {},
   "outputs": [],
   "source": [
    "#Importar librerias\n",
    "import pandas as pd\n",
    "import matplotlib.pyplot as plt\n",
    "import plotly.express as px\n",
    "import numpy as np"
   ]
  },
  {
   "cell_type": "code",
   "execution_count": null,
   "metadata": {},
   "outputs": [],
   "source": [
    "#Creamos una ruta de archivo única para cargar el archivo\n",
    "try:\n",
    "    path = 'C:/Users/erika/Desktop/data/sprint_11/'\n",
    "    df = pd.read_csv(path + 'logs_exp_us.csv', sep='\\t')\n",
    "except: \n",
    "    df = pd.read_csv('logs_exp_us.csv', sep='\\t')\n",
    "df.head()"
   ]
  },
  {
   "cell_type": "markdown",
   "metadata": {},
   "source": [
    "## Preparar los datos para el análisis"
   ]
  },
  {
   "cell_type": "markdown",
   "metadata": {},
   "source": [
    "### Cambia el nombre de las columnas de manera que sea conveniente para ti."
   ]
  },
  {
   "cell_type": "code",
   "execution_count": null,
   "metadata": {},
   "outputs": [],
   "source": [
    "df = df.rename(columns={\"EventName\": \"name\", \"DeviceIDHash\": \"user_id\", \"EventTimestamp\": \"time\", \"ExpId\": \"exp_id\"})\n",
    "df.head()"
   ]
  },
  {
   "cell_type": "markdown",
   "metadata": {},
   "source": [
    "### Comprueba si hay tipos de datos y valores ausentes. "
   ]
  },
  {
   "cell_type": "code",
   "execution_count": null,
   "metadata": {},
   "outputs": [],
   "source": [
    "df.info(show_counts=True)"
   ]
  },
  {
   "cell_type": "markdown",
   "metadata": {},
   "source": [
    "Nos encontramos con que no hay datos ausentes."
   ]
  },
  {
   "cell_type": "code",
   "execution_count": null,
   "metadata": {},
   "outputs": [],
   "source": [
    "#Verificamos si hay duplicados\n",
    "df.duplicated().sum()"
   ]
  },
  {
   "cell_type": "code",
   "execution_count": null,
   "metadata": {},
   "outputs": [],
   "source": [
    "#visualizamos las filas duplicadas\n",
    "duplicados = df[df.duplicated()]\n",
    "duplicados.head(10)"
   ]
  },
  {
   "cell_type": "markdown",
   "metadata": {},
   "source": [
    "Nos encontramos con duplicados de los tres grupos y de los diferentes eventos, por lo que podremos eliminarlos sin que afecten el análisis."
   ]
  },
  {
   "cell_type": "code",
   "execution_count": 7,
   "metadata": {},
   "outputs": [],
   "source": [
    "df = df.drop_duplicates()"
   ]
  },
  {
   "cell_type": "markdown",
   "metadata": {},
   "source": [
    "### Corrige los datos si es necesario agrega una columna de fecha y hora y una columna separada para las fechas"
   ]
  },
  {
   "cell_type": "code",
   "execution_count": null,
   "metadata": {},
   "outputs": [],
   "source": [
    "df['time'] = pd.to_datetime(df['time'], unit='s')\n",
    "df['date'] = pd.to_datetime(df['time'], unit='s').dt.date\n",
    "df.head()"
   ]
  },
  {
   "cell_type": "markdown",
   "metadata": {},
   "source": [
    "## Estudiar y comprobar los datos"
   ]
  },
  {
   "cell_type": "markdown",
   "metadata": {},
   "source": [
    "### ¿Cuántos eventos hay en los registros?"
   ]
  },
  {
   "cell_type": "code",
   "execution_count": null,
   "metadata": {},
   "outputs": [],
   "source": [
    "print(f\"Eventos totales: {len(df)}\")\n",
    "print(f\"Conteo por tipos de evento: {df.groupby('name')['user_id'].count()}\")"
   ]
  },
  {
   "cell_type": "markdown",
   "metadata": {},
   "source": [
    "### ¿Cuántos usuarios y usuarias hay en los registros?"
   ]
  },
  {
   "cell_type": "code",
   "execution_count": null,
   "metadata": {},
   "outputs": [],
   "source": [
    "print(f\"Hay un total de: {df['user_id'].nunique()} usuarias y usuarios\")"
   ]
  },
  {
   "cell_type": "markdown",
   "metadata": {},
   "source": [
    "### ¿Cuál es el promedio de eventos por usuario?\n"
   ]
  },
  {
   "cell_type": "code",
   "execution_count": null,
   "metadata": {},
   "outputs": [],
   "source": [
    "event_per_user = df.groupby('user_id')['name'].count().mean()\n",
    "print(f\" El promedio de eventos por usuario es de: {event_per_user}\")"
   ]
  },
  {
   "cell_type": "markdown",
   "metadata": {},
   "source": [
    "### ¿Qué periodo de tiempo cubren los datos? "
   ]
  },
  {
   "cell_type": "markdown",
   "metadata": {},
   "source": [
    "#### Encuentra la fecha máxima y mínima. "
   ]
  },
  {
   "cell_type": "code",
   "execution_count": null,
   "metadata": {},
   "outputs": [],
   "source": [
    "inicio = df['date'].min()\n",
    "fin = df['date'].max()\n",
    "print(f\"La fecha máxima es: {fin}\")\n",
    "print(f\"La fecha mínima es: {inicio}\")"
   ]
  },
  {
   "cell_type": "markdown",
   "metadata": {},
   "source": [
    "#### Traza un histograma por fecha y hora. "
   ]
  },
  {
   "cell_type": "code",
   "execution_count": null,
   "metadata": {},
   "outputs": [],
   "source": [
    "fig = px.histogram(df, x='time', title='Actividad por fecha y hora')\n",
    "\n",
    "# Personalizar etiquetas\n",
    "fig.update_layout(\n",
    "    xaxis_title='fecha y hora',\n",
    "    yaxis_title='Frecuencia',\n",
    "    bargap=0.2  # Espacio entre las barras\n",
    ")\n",
    "\n",
    "fig.show()"
   ]
  },
  {
   "cell_type": "code",
   "execution_count": null,
   "metadata": {},
   "outputs": [],
   "source": [
    "#Analizaremos unicamente por fecha\n",
    "fig = px.histogram(df, x='date', title='Actividad por fecha')\n",
    "\n",
    "# Personalizar etiquetas\n",
    "fig.update_layout(\n",
    "    xaxis_title='fecha',\n",
    "    yaxis_title='Frecuencia',\n",
    "    bargap=0.2  # Espacio entre las barras\n",
    ")\n",
    "\n",
    "fig.show()"
   ]
  },
  {
   "cell_type": "markdown",
   "metadata": {},
   "source": [
    "Encontramos una muy notable diferencia a partir de agosto y en los horarios diurnos con mayor actividad."
   ]
  },
  {
   "cell_type": "markdown",
   "metadata": {},
   "source": [
    "#### ¿Puedes tener seguridad de que tienes datos igualmente completos para todo el periodo? Los eventos más antiguos podrían terminar en los registros de algunos usuarios o usuarias por razones técnicas y esto podría sesgar el panorama general. Encuentra el momento en el que los datos comienzan a estar completos e ignora la sección anterior. ¿Qué periodo representan realmente los datos?"
   ]
  },
  {
   "cell_type": "markdown",
   "metadata": {},
   "source": [
    "Visualmente se observa estabilidad en los datos a partir de agosto, por lo que abarcaremos ese periodo para graficar nuevamente."
   ]
  },
  {
   "cell_type": "code",
   "execution_count": null,
   "metadata": {},
   "outputs": [],
   "source": [
    "#Creamos una nueva columna con el mes de eventoo\n",
    "df['month'] = df['time'].dt.to_period(\"M\").dt.start_time\n",
    "#Filtramos los eventos que ocurrieron en agosto en una nueva tabla\n",
    "df_ago = df[df['month'] == '2019-08-01']\n",
    "df_ago.head()"
   ]
  },
  {
   "cell_type": "code",
   "execution_count": null,
   "metadata": {},
   "outputs": [],
   "source": [
    "#Graficamos nuestra tabla filtrada por fecha y hora\n",
    "fig = px.histogram(df_ago, x='time', title='Actividad por fecha y hora')\n",
    "\n",
    "# Personalizar etiquetas\n",
    "fig.update_layout(\n",
    "    xaxis_title='fecha y hora',\n",
    "    yaxis_title='Frecuencia',\n",
    "    bargap=0.2  # Espacio entre las barras\n",
    ")\n",
    "\n",
    "fig.show()"
   ]
  },
  {
   "cell_type": "code",
   "execution_count": null,
   "metadata": {},
   "outputs": [],
   "source": [
    "#Analizaremos unicamente por fecha\n",
    "fig = px.histogram(df_ago, x='date', title='Actividad por fecha')\n",
    "\n",
    "# Personalizar etiquetas\n",
    "fig.update_layout(\n",
    "    xaxis_title='fecha',\n",
    "    yaxis_title='Frecuencia',\n",
    "    bargap=0.2  # Espacio entre las barras\n",
    ")\n",
    "\n",
    "fig.show()"
   ]
  },
  {
   "cell_type": "markdown",
   "metadata": {},
   "source": [
    "### ¿Perdiste muchos eventos y usuarios al excluir los datos más antiguos?\n"
   ]
  },
  {
   "cell_type": "code",
   "execution_count": null,
   "metadata": {},
   "outputs": [],
   "source": [
    "print(f\"Eventos totales: {len(df_ago)}\")"
   ]
  },
  {
   "cell_type": "code",
   "execution_count": null,
   "metadata": {},
   "outputs": [],
   "source": [
    "perdida = (1-len(df_ago)/len(df))*100\n",
    "print(f\"Se perdió el {round(perdida, 2)} % de los registros\")"
   ]
  },
  {
   "cell_type": "code",
   "execution_count": null,
   "metadata": {},
   "outputs": [],
   "source": [
    "u_before = df['user_id'].nunique()\n",
    "u_after = df_ago['user_id'].nunique()\n",
    "perdida = (1-u_after/u_before)*100\n",
    "print(f\"Se perdió el {round(perdida, 2)} % de los usuarios\")"
   ]
  },
  {
   "cell_type": "markdown",
   "metadata": {},
   "source": [
    "### Asegúrate de tener usuarios y usuarias de los tres grupos experimentales."
   ]
  },
  {
   "cell_type": "code",
   "execution_count": null,
   "metadata": {},
   "outputs": [],
   "source": [
    "#Hacemos un conteo de los grupos agrupando sus id con los usuarios\n",
    "events = df_ago.groupby('exp_id')['user_id'].count().sort_values(ascending=False)\n",
    "events"
   ]
  },
  {
   "cell_type": "markdown",
   "metadata": {},
   "source": [
    "## Estudiar el embudo de eventos"
   ]
  },
  {
   "cell_type": "markdown",
   "metadata": {},
   "source": [
    "### Observa qué eventos hay en los registros y su frecuencia de suceso. Ordénalos por frecuencia."
   ]
  },
  {
   "cell_type": "code",
   "execution_count": null,
   "metadata": {
    "scrolled": true
   },
   "outputs": [],
   "source": [
    "#Contamos cada vez que se realizaron los eventos\n",
    "print(f\"Conteo por tipos de evento: {df_ago.groupby('name')['user_id'].count().sort_values(ascending=False)}\")"
   ]
  },
  {
   "cell_type": "markdown",
   "metadata": {},
   "source": [
    "### Encuentra la cantidad de usuarios y usuarias que realizaron cada una de estas acciones. Ordena los eventos por el número de usuarios y usuarias. "
   ]
  },
  {
   "cell_type": "code",
   "execution_count": null,
   "metadata": {},
   "outputs": [],
   "source": [
    "#Agrupamos para realizar el conteo considerando el numero de usuarios que realizó cada evento, el conteo es por usuarios sin repeticiión\n",
    "user_by_event = df_ago.groupby('name')['user_id'].nunique().sort_values(ascending=False).reset_index()\n",
    "user_by_event"
   ]
  },
  {
   "cell_type": "code",
   "execution_count": null,
   "metadata": {
    "scrolled": true
   },
   "outputs": [],
   "source": [
    "n_users = df_ago['user_id'].nunique()\n",
    "print(f\"Hay un total de: {n_users} usuarios\")"
   ]
  },
  {
   "cell_type": "markdown",
   "metadata": {},
   "source": [
    "#### Calcula la proporción de usuarios y usuarias que realizaron la acción al menos una vez."
   ]
  },
  {
   "cell_type": "code",
   "execution_count": null,
   "metadata": {},
   "outputs": [],
   "source": [
    "user_by_event['proportion'] = (user_by_event['user_id'] / n_users)*100\n",
    "user_by_event"
   ]
  },
  {
   "cell_type": "markdown",
   "metadata": {},
   "source": [
    "### ¿En qué orden crees que ocurrieron las acciones? ¿Todas son parte de una sola secuencia? No es necesario tenerlas en cuenta al calcular el embudo."
   ]
  },
  {
   "cell_type": "markdown",
   "metadata": {},
   "source": [
    "De acuerdo con la proporción, podemos deducir que primero tienen la visualización de la pantalla principal, posteriormente la página de las ofertas, seguido de ir al carrito, hacer el pago y ver el tutorial. Sim embargo, también sabemos que el orden no siempre es el mismo ya que no está el 100% de usuarios en la primera acción."
   ]
  },
  {
   "cell_type": "code",
   "execution_count": null,
   "metadata": {
    "scrolled": true
   },
   "outputs": [],
   "source": [
    "user_by_event['users_previus_steep'] = user_by_event['user_id']. shift(1)\n",
    "#columna con la proporción de conversión\n",
    "user_by_event['conver_prev_steep'] = user_by_event['user_id'] / user_by_event['users_previus_steep']\n",
    "#Columna con perdidas\n",
    "user_by_event['dropoff_rate'] = 1 - user_by_event['conver_prev_steep']\n",
    "user_by_event"
   ]
  },
  {
   "cell_type": "markdown",
   "metadata": {},
   "source": [
    "### Utiliza el embudo de eventos para encontrar la proporción de usuarios y usuarias que pasan de una etapa a la siguiente. (Por ejemplo, para la secuencia de eventos A → B → C, calcula la proporción de usuarios en la etapa B a la cantidad de usuarios en la etapa A y la proporción de usuarios en la etapa C a la cantidad en la etapa B).\n"
   ]
  },
  {
   "cell_type": "code",
   "execution_count": null,
   "metadata": {},
   "outputs": [],
   "source": [
    "#Usamos la función funnel, la cual genera un gráfico de embudo y permite ver las proporciones \n",
    "from plotly import graph_objects as go\n",
    "fig = go.Figure(go.Funnel(\n",
    "    y = user_by_event[\"name\"],\n",
    "    x = user_by_event[\"user_id\"]\n",
    "    ))\n",
    "fig.show()"
   ]
  },
  {
   "cell_type": "markdown",
   "metadata": {},
   "source": [
    "### ¿En qué etapa pierdes más usuarios y usuarias?"
   ]
  },
  {
   "cell_type": "markdown",
   "metadata": {},
   "source": [
    "Hay más perdida de usuarios en el tutorial, seguido del segundompaso donde avanzan a la ventana offers."
   ]
  },
  {
   "cell_type": "markdown",
   "metadata": {},
   "source": [
    "### ¿Qué porcentaje de usuarios y usuarias hace todo el viaje desde su primer evento hasta el pago?"
   ]
  },
  {
   "cell_type": "markdown",
   "metadata": {},
   "source": [
    "Desde el incio hasta el pago es un 46.97 %, y desde el inicio hasta el tutorial un 11.15%"
   ]
  },
  {
   "cell_type": "markdown",
   "metadata": {},
   "source": [
    "## Estudiar los resultados del experimento"
   ]
  },
  {
   "cell_type": "markdown",
   "metadata": {},
   "source": [
    "### ¿Cuántos usuarios y usuarias hay en cada grupo?"
   ]
  },
  {
   "cell_type": "code",
   "execution_count": null,
   "metadata": {},
   "outputs": [],
   "source": [
    "grupos = df_ago.groupby('exp_id')['user_id'].nunique().reset_index()\n",
    "grupos"
   ]
  },
  {
   "cell_type": "markdown",
   "metadata": {},
   "source": [
    "### Tenemos dos grupos de control en el test A/A, donde comprobamos nuestros mecanismos y cálculos. Observa si hay una diferencia estadísticamente significativa entre las muestras 246 y 247."
   ]
  },
  {
   "cell_type": "code",
   "execution_count": null,
   "metadata": {},
   "outputs": [],
   "source": [
    "#Eliminamos usuarios duplicados de cada experimento\n",
    "conversions = df_ago[[\"user_id\", \"exp_id\"]].drop_duplicates()\n",
    "\n",
    "#creamos un nuevo df con usuarios y un indicador de si realizó el pago o no (1 si)\n",
    "converted = pd.DataFrame(data={\n",
    "    \"user_id\": df_ago[df_ago[\"name\"] == \"PaymentScreenSuccessful\"][\"user_id\"].unique(),\n",
    "    \"converted\": 1\n",
    "})\n",
    "#unimos ambas tablas\n",
    "conversions = conversions.merge(converted, on=\"user_id\", how=\"left\")\n",
    "conversions[\"converted\"] = conversions[\"converted\"].fillna(0)\n",
    "\n",
    "conversions.head(10)"
   ]
  },
  {
   "cell_type": "code",
   "execution_count": 30,
   "metadata": {},
   "outputs": [],
   "source": [
    "control_1 = conversions[conversions['exp_id'] == 246]\n",
    "control_2 = conversions[conversions['exp_id'] == 247]\n",
    "exp = conversions[conversions['exp_id'] == 248]"
   ]
  },
  {
   "cell_type": "code",
   "execution_count": null,
   "metadata": {},
   "outputs": [],
   "source": [
    "np.var(exp[\"converted\"])"
   ]
  },
  {
   "cell_type": "code",
   "execution_count": null,
   "metadata": {},
   "outputs": [],
   "source": [
    "from scipy.stats import ttest_ind\n",
    "\n",
    "stat, p_value = ttest_ind(\n",
    "    control_1[\"converted\"],\n",
    "    control_2[\"converted\"]\n",
    ")\n",
    "\n",
    "p_value\n",
    "\n",
    "#deteminamos alfa\n",
    "alpha = 0.05\n",
    "if p_value < alpha:\n",
    "    print(\"Si hay significancia\")\n",
    "else:\n",
    "    print(\"No hay significancia estadística\")\n",
    "    \n",
    "print(f\"\"\"\n",
    "Statistic: {stat}\n",
    "p-value: {p_value}\n",
    "\"\"\")"
   ]
  },
  {
   "cell_type": "markdown",
   "metadata": {},
   "source": [
    "### Selecciona el evento más popular. "
   ]
  },
  {
   "cell_type": "markdown",
   "metadata": {},
   "source": [
    "El evento con mayor cantidad de usuarios es el primero, MainScreepAppear"
   ]
  },
  {
   "cell_type": "markdown",
   "metadata": {},
   "source": [
    "#### En cada uno de los grupos de control, encuentra la cantidad de usuarios y usuarias que realizaron esta acción. "
   ]
  },
  {
   "cell_type": "code",
   "execution_count": null,
   "metadata": {},
   "outputs": [],
   "source": [
    "mainscreen = df[(df['name'] == 'MainScreenAppear') & (df['exp_id'].isin([246, 247]))]\n",
    "mainscreen_users = mainscreen.groupby('exp_id')['user_id'].nunique().reset_index()\n",
    "mainscreen_users"
   ]
  },
  {
   "cell_type": "markdown",
   "metadata": {},
   "source": [
    "#### Encuentra su proporción. "
   ]
  },
  {
   "cell_type": "code",
   "execution_count": null,
   "metadata": {
    "scrolled": true
   },
   "outputs": [],
   "source": [
    "mainscreen_users['proportion'] = mainscreen_users['user_id'] / n_users\n",
    "mainscreen_users"
   ]
  },
  {
   "cell_type": "code",
   "execution_count": null,
   "metadata": {},
   "outputs": [],
   "source": [
    "mainscreen.head()"
   ]
  },
  {
   "cell_type": "markdown",
   "metadata": {},
   "source": [
    "#### Comprueba si la diferencia entre los grupos es estadísticamente significativa. "
   ]
  },
  {
   "cell_type": "code",
   "execution_count": null,
   "metadata": {},
   "outputs": [],
   "source": [
    "#Crearemos valores binarios en una nueva columna para realizar ttest\n",
    "df_ago['mainscreen_flag'] = df_ago['name'].apply(lambda x: 1 if x == 'MainScreenAppear' else 0)\n",
    "\n",
    "# Agrupar los datos por usuario para obtener un solo valor por usuario en cada grupo\n",
    "group_246 = df_ago[df_ago['exp_id'] == 246].groupby('user_id')['mainscreen_flag'].max()\n",
    "group_247 = df_ago[df_ago['exp_id'] == 247].groupby('user_id')['mainscreen_flag'].max()\n",
    "\n",
    "# Realizar el t-test entre los dos grupos\n",
    "\n",
    "import scipy.stats as stats\n",
    "stat, p_value = stats.ttest_ind(group_246, group_247)\n",
    "\n",
    "#deteminamos alfa\n",
    "alpha = 0.05\n",
    "\n",
    "if p_value < alpha:\n",
    "    print(\"Si hay significancia\")\n",
    "else:\n",
    "    print(\"No hay significancia estadística\")\n",
    "print(f\"\"\"\n",
    "Statistic: {stat}\n",
    "p-value: {p_value}\n",
    "\"\"\")"
   ]
  },
  {
   "cell_type": "markdown",
   "metadata": {},
   "source": [
    "#### Repite el procedimiento para todos los demás eventos (ahorrarás tiempo si creas una función especial para esta prueba). "
   ]
  },
  {
   "cell_type": "code",
   "execution_count": 37,
   "metadata": {},
   "outputs": [],
   "source": [
    "import scipy.stats as stats\n",
    "#### prueba anova********** más de una prueba a la vez\n",
    "def test_event_proportions_ttest(df_ago, event_name, group1, group2):\n",
    "    # Crear columnas con valores binarios: 1 si el usuario hizo el evento, 0 si no\n",
    "    df_ago['event_flag'] = df_ago['name'].apply(lambda x: 1 if x == event_name else 0)\n",
    "    \n",
    "    # Agrupar los datos por usuario para obtener un solo valor por usuario en cada grupo\n",
    "    group1_data = df_ago[df_ago['exp_id'] == group1].groupby('user_id')['event_flag'].max()\n",
    "    group2_data = df_ago[df_ago['exp_id'] == group2].groupby('user_id')['event_flag'].max()\n",
    "    \n",
    "    # Realizar el t-test entre los dos grupos\n",
    "    stat, p_value = stats.ttest_ind(group1_data, group2_data)\n",
    "     #deteminamos alfa ajustandolo entre el número de eventos\n",
    "    alpha = 0.05 / 21\n",
    "    print(f\"Evento: {event_name}\") \n",
    "    print(f\"Statistic: {stat}\")\n",
    "    print(f\"p-value: {p_value}\")\n",
    "    if p_value < alpha:\n",
    "        print(\"Si hay significancia\")\n",
    "    else:\n",
    "        print(\"No hay significancia estadística\")"
   ]
  },
  {
   "cell_type": "code",
   "execution_count": null,
   "metadata": {},
   "outputs": [],
   "source": [
    "eventos = ['MainScreenAppear', 'OffersScreenAppear', 'CartScreenAppear', 'PaymentScreenSuccessful', 'Tutorial']\n",
    "for evento in eventos:\n",
    "    test_event_proportions_ttest(df_ago, evento, 246, 247)"
   ]
  },
  {
   "cell_type": "markdown",
   "metadata": {},
   "source": [
    "### Haz lo mismo para el grupo con fuentes alteradas. "
   ]
  },
  {
   "cell_type": "markdown",
   "metadata": {},
   "source": [
    "#### Compara los resultados con los de cada uno de los grupos de control para cada evento de forma aislada. \n"
   ]
  },
  {
   "cell_type": "code",
   "execution_count": null,
   "metadata": {},
   "outputs": [],
   "source": [
    "#Corremos nuevamente la función, ahora comparando cada grupo de control con el experimental\n",
    "#Grupo 246 y 248\n",
    "eventos = ['MainScreenAppear', 'OffersScreenAppear', 'CartScreenAppear', 'PaymentScreenSuccessful', 'Tutorial']\n",
    "for evento in eventos:\n",
    "    test_event_proportions_ttest(df_ago, evento, 246, 248)"
   ]
  },
  {
   "cell_type": "code",
   "execution_count": null,
   "metadata": {},
   "outputs": [],
   "source": [
    "#Corremos nuevamente la función, ahora comparando cada grupo de control con el experimental\n",
    "#Grupo 247 y 248\n",
    "eventos = ['MainScreenAppear', 'OffersScreenAppear', 'CartScreenAppear', 'PaymentScreenSuccessful', 'Tutorial']\n",
    "for evento in eventos:\n",
    "    test_event_proportions_ttest(df_ago, evento, 247, 248)"
   ]
  },
  {
   "cell_type": "markdown",
   "metadata": {},
   "source": [
    "#### Compara los resultados con los resultados combinados de los grupos de control."
   ]
  },
  {
   "cell_type": "code",
   "execution_count": null,
   "metadata": {},
   "outputs": [],
   "source": [
    "#Corremos nuevamente la función, ahora comparando los grupos de control con el experimental\n",
    "eventos = ['MainScreenAppear', 'OffersScreenAppear', 'CartScreenAppear', 'PaymentScreenSuccessful', 'Tutorial']\n",
    "for evento in eventos:\n",
    "    test_event_proportions_ttest(df_ago, evento, 246 and 247, 248)"
   ]
  },
  {
   "cell_type": "markdown",
   "metadata": {},
   "source": [
    "####  ¿Qué conclusiones puedes sacar del experimento?"
   ]
  },
  {
   "cell_type": "markdown",
   "metadata": {},
   "source": [
    "De estos análisis podemos concluir los siguientes puntos:\n",
    "1. Debido a que no hay significancia entre los grupos de control, podemos decir que la aleatorización es correcta, de modo que no hay sesgos entre ambos grupos y el sistema de pruebas es confiable.\n",
    "2. Dado que obtenemos que no hay significancia tampoco al compararlos con el grupo b, podemos deducir que no hay pruebas de que el cambio de fuentes hayan influido en las decisiones y acciones de los usuarios.\n",
    "3. Es posible que el tamaño de la muestra sea insuficiente de modo que se aconsejaría repetir la prueba con una muestra más grande."
   ]
  },
  {
   "cell_type": "markdown",
   "metadata": {},
   "source": [
    "### ¿Qué nivel de significación has establecido para probar las hipótesis estadísticas mencionadas anteriormente? "
   ]
  },
  {
   "cell_type": "markdown",
   "metadata": {},
   "source": [
    "He establecido alpha como 0.05 inicialmente, sin embargo, debido a que cada prueba se realizó 21 veces la misma función era posible acumular un falos positivo (0.05 * 21) así que para corregirlo dividí este alpha inicial entre el número de eventos y así darle esa posibilidad de falso positivo a cada evento individualmente y no acumularlo. "
   ]
  },
  {
   "cell_type": "markdown",
   "metadata": {},
   "source": [
    "#### Calcula cuántas pruebas de hipótesis estadísticas has realizado. Con un nivel de significancia estadística de 0.1, uno de cada 10 resultados podría ser falso. ¿Cuál debería ser el nivel de significación? Si deseas cambiarlo, vuelve a ejecutar los pasos anteriores y comprueba tus conclusiones."
   ]
  },
  {
   "cell_type": "markdown",
   "metadata": {},
   "source": [
    "Se realizaron 20 (+1 inicial) pruebas de hipótesis, la significancia fue de 0.05/21(n de eventos) para reducir la posibilidad de falsos positivos. Inicialmente consideré dicha corrección como 0.05/5 ya que al correr la función se ejecutaba 5 veces por prueba, sin embargo, esta corrección no consideraba los test en su totalidad.\n",
    "Las hipótesis nulas se aceptan cuando se comprueba que no hubo cambios entre ambos grupos, en este caso todos los test afirman que no hay significancia estadística, dejando un margen de error muy bajo (0.00238). Por lo que no podemos rechazar las hipótesis nulas."
   ]
  }
 ],
 "metadata": {
  "ExecuteTimeLog": [
   {
    "duration": 477,
    "start_time": "2024-08-23T12:02:07.293Z"
   },
   {
    "duration": 364,
    "start_time": "2024-08-23T12:02:08.676Z"
   },
   {
    "duration": 6,
    "start_time": "2024-08-23T12:02:53.714Z"
   },
   {
    "duration": 5,
    "start_time": "2024-08-23T12:04:40.805Z"
   },
   {
    "duration": 324,
    "start_time": "2024-08-23T12:05:06.277Z"
   },
   {
    "duration": 6,
    "start_time": "2024-08-23T12:05:42.960Z"
   },
   {
    "duration": 316,
    "start_time": "2024-08-23T13:21:19.616Z"
   },
   {
    "duration": 435,
    "start_time": "2024-08-23T13:21:22.727Z"
   },
   {
    "duration": 239,
    "start_time": "2024-08-23T13:21:23.681Z"
   },
   {
    "duration": 24,
    "start_time": "2024-08-23T13:21:51.976Z"
   },
   {
    "duration": 12,
    "start_time": "2024-08-23T13:53:28.545Z"
   },
   {
    "duration": 25,
    "start_time": "2024-08-23T13:56:37.605Z"
   },
   {
    "duration": 10,
    "start_time": "2024-08-23T13:57:55.752Z"
   },
   {
    "duration": 115,
    "start_time": "2024-08-23T14:01:23.295Z"
   },
   {
    "duration": 43,
    "start_time": "2024-08-23T14:05:30.757Z"
   },
   {
    "duration": 27,
    "start_time": "2024-08-23T14:05:47.076Z"
   },
   {
    "duration": 39,
    "start_time": "2024-08-23T14:06:02.345Z"
   },
   {
    "duration": 28,
    "start_time": "2024-08-23T14:06:45.371Z"
   },
   {
    "duration": 26,
    "start_time": "2024-08-23T14:07:03.882Z"
   },
   {
    "duration": 11,
    "start_time": "2024-08-23T14:07:27.190Z"
   },
   {
    "duration": 263,
    "start_time": "2024-08-23T14:10:52.587Z"
   },
   {
    "duration": 42,
    "start_time": "2024-08-23T14:11:12.640Z"
   },
   {
    "duration": 24,
    "start_time": "2024-08-23T14:11:51.671Z"
   },
   {
    "duration": 54,
    "start_time": "2024-08-23T14:14:01.599Z"
   },
   {
    "duration": 36,
    "start_time": "2024-08-23T14:16:22.020Z"
   },
   {
    "duration": 35,
    "start_time": "2024-08-23T14:16:52.528Z"
   },
   {
    "duration": 4,
    "start_time": "2024-08-23T14:40:50.606Z"
   },
   {
    "duration": 188,
    "start_time": "2024-08-23T14:40:50.616Z"
   },
   {
    "duration": 14,
    "start_time": "2024-08-23T14:40:50.808Z"
   },
   {
    "duration": 25,
    "start_time": "2024-08-23T14:40:50.825Z"
   },
   {
    "duration": 194,
    "start_time": "2024-08-23T14:40:50.852Z"
   },
   {
    "duration": 52,
    "start_time": "2024-08-23T14:40:51.050Z"
   },
   {
    "duration": 27,
    "start_time": "2024-08-23T14:40:51.105Z"
   },
   {
    "duration": 11,
    "start_time": "2024-08-23T14:40:51.135Z"
   },
   {
    "duration": 60,
    "start_time": "2024-08-23T14:40:51.149Z"
   },
   {
    "duration": 43,
    "start_time": "2024-08-23T14:40:51.211Z"
   },
   {
    "duration": 353,
    "start_time": "2024-08-23T14:42:03.890Z"
   },
   {
    "duration": 9791,
    "start_time": "2024-08-23T14:46:06.657Z"
   },
   {
    "duration": 9336,
    "start_time": "2024-08-23T14:46:45.374Z"
   },
   {
    "duration": 8368,
    "start_time": "2024-08-23T14:49:44.085Z"
   },
   {
    "duration": 183,
    "start_time": "2024-08-23T14:50:14.086Z"
   },
   {
    "duration": 181,
    "start_time": "2024-08-23T14:50:36.609Z"
   },
   {
    "duration": 184,
    "start_time": "2024-08-23T14:50:54.529Z"
   },
   {
    "duration": 6,
    "start_time": "2024-08-23T15:01:16.579Z"
   },
   {
    "duration": 9,
    "start_time": "2024-08-23T15:02:22.885Z"
   },
   {
    "duration": 3,
    "start_time": "2024-08-23T15:03:24.963Z"
   },
   {
    "duration": 6,
    "start_time": "2024-08-23T15:04:38.235Z"
   },
   {
    "duration": 5,
    "start_time": "2024-08-23T15:04:49.756Z"
   },
   {
    "duration": 29,
    "start_time": "2024-08-23T15:05:28.862Z"
   },
   {
    "duration": 9,
    "start_time": "2024-08-23T15:06:19.277Z"
   },
   {
    "duration": 22,
    "start_time": "2024-08-23T15:06:52.042Z"
   },
   {
    "duration": 21,
    "start_time": "2024-08-23T15:07:24.705Z"
   },
   {
    "duration": 20,
    "start_time": "2024-08-23T15:10:01.460Z"
   },
   {
    "duration": 699,
    "start_time": "2024-08-23T15:15:21.967Z"
   },
   {
    "duration": 55,
    "start_time": "2024-08-23T15:16:22.298Z"
   },
   {
    "duration": 5,
    "start_time": "2024-08-23T15:17:28.021Z"
   },
   {
    "duration": 68,
    "start_time": "2024-08-23T15:17:37.957Z"
   },
   {
    "duration": 80,
    "start_time": "2024-08-23T15:17:48.364Z"
   },
   {
    "duration": 9288,
    "start_time": "2024-08-23T15:19:50.864Z"
   },
   {
    "duration": 8470,
    "start_time": "2024-08-23T15:20:54.358Z"
   },
   {
    "duration": 9,
    "start_time": "2024-08-23T15:24:34.693Z"
   },
   {
    "duration": 8540,
    "start_time": "2024-08-23T15:25:32.324Z"
   },
   {
    "duration": 8600,
    "start_time": "2024-08-23T15:27:06.794Z"
   },
   {
    "duration": 8555,
    "start_time": "2024-08-23T15:27:56.151Z"
   },
   {
    "duration": 28,
    "start_time": "2024-08-23T15:29:32.148Z"
   },
   {
    "duration": 6,
    "start_time": "2024-08-23T15:30:28.405Z"
   },
   {
    "duration": 6,
    "start_time": "2024-08-23T15:30:39.459Z"
   },
   {
    "duration": 4,
    "start_time": "2024-08-23T15:34:24.425Z"
   },
   {
    "duration": 4,
    "start_time": "2024-08-23T15:34:37.164Z"
   },
   {
    "duration": 8,
    "start_time": "2024-08-23T15:37:17.362Z"
   },
   {
    "duration": 8,
    "start_time": "2024-08-23T15:37:24.441Z"
   },
   {
    "duration": 10,
    "start_time": "2024-08-23T15:38:10.698Z"
   },
   {
    "duration": 12,
    "start_time": "2024-08-23T15:40:43.461Z"
   },
   {
    "duration": 7,
    "start_time": "2024-08-23T15:41:11.790Z"
   },
   {
    "duration": 11,
    "start_time": "2024-08-23T15:48:28.818Z"
   },
   {
    "duration": 4,
    "start_time": "2024-08-23T15:48:53.502Z"
   },
   {
    "duration": 28,
    "start_time": "2024-08-23T15:49:33.317Z"
   },
   {
    "duration": 67,
    "start_time": "2024-08-23T15:52:14.276Z"
   },
   {
    "duration": 65,
    "start_time": "2024-08-23T15:53:39.729Z"
   },
   {
    "duration": 10,
    "start_time": "2024-08-23T15:56:37.009Z"
   },
   {
    "duration": 12,
    "start_time": "2024-08-23T15:57:30.781Z"
   },
   {
    "duration": 4429,
    "start_time": "2024-08-24T12:56:56.716Z"
   },
   {
    "duration": 233,
    "start_time": "2024-08-24T12:57:01.150Z"
   },
   {
    "duration": 19,
    "start_time": "2024-08-24T12:57:01.386Z"
   },
   {
    "duration": 50,
    "start_time": "2024-08-24T12:57:01.409Z"
   },
   {
    "duration": 176,
    "start_time": "2024-08-24T12:57:01.464Z"
   },
   {
    "duration": 31,
    "start_time": "2024-08-24T12:57:01.643Z"
   },
   {
    "duration": 11,
    "start_time": "2024-08-24T12:57:01.677Z"
   },
   {
    "duration": 51,
    "start_time": "2024-08-24T12:57:01.693Z"
   },
   {
    "duration": 35,
    "start_time": "2024-08-24T12:57:01.747Z"
   },
   {
    "duration": 9896,
    "start_time": "2024-08-24T12:57:01.785Z"
   },
   {
    "duration": 8998,
    "start_time": "2024-08-24T12:57:11.684Z"
   },
   {
    "duration": 169,
    "start_time": "2024-08-24T12:57:20.685Z"
   },
   {
    "duration": 9388,
    "start_time": "2024-08-24T12:57:20.857Z"
   },
   {
    "duration": 9009,
    "start_time": "2024-08-24T12:57:30.252Z"
   },
   {
    "duration": 5,
    "start_time": "2024-08-24T12:57:39.265Z"
   },
   {
    "duration": 5,
    "start_time": "2024-08-24T12:57:39.273Z"
   },
   {
    "duration": 50,
    "start_time": "2024-08-24T12:57:39.281Z"
   },
   {
    "duration": 38,
    "start_time": "2024-08-24T12:57:39.334Z"
   },
   {
    "duration": 123,
    "start_time": "2024-08-24T12:57:39.427Z"
   },
   {
    "duration": 8,
    "start_time": "2024-08-24T12:57:39.553Z"
   },
   {
    "duration": 19,
    "start_time": "2024-08-24T13:01:53.179Z"
   },
   {
    "duration": 11,
    "start_time": "2024-08-24T13:02:45.201Z"
   },
   {
    "duration": 433,
    "start_time": "2024-08-24T13:10:58.600Z"
   },
   {
    "duration": 13,
    "start_time": "2024-08-24T13:11:11.718Z"
   },
   {
    "duration": 9,
    "start_time": "2024-08-24T13:38:19.556Z"
   },
   {
    "duration": 17,
    "start_time": "2024-08-24T13:38:45.827Z"
   },
   {
    "duration": 15,
    "start_time": "2024-08-24T13:46:06.926Z"
   },
   {
    "duration": 12,
    "start_time": "2024-08-24T13:59:23.404Z"
   },
   {
    "duration": 9,
    "start_time": "2024-08-24T14:00:17.744Z"
   },
   {
    "duration": 17,
    "start_time": "2024-08-24T14:00:25.453Z"
   },
   {
    "duration": 497,
    "start_time": "2024-08-24T14:15:47.317Z"
   },
   {
    "duration": 34,
    "start_time": "2024-08-24T14:18:26.559Z"
   },
   {
    "duration": 4378,
    "start_time": "2024-08-26T14:58:38.659Z"
   },
   {
    "duration": 235,
    "start_time": "2024-08-26T14:58:43.041Z"
   },
   {
    "duration": 14,
    "start_time": "2024-08-26T14:58:43.280Z"
   },
   {
    "duration": 49,
    "start_time": "2024-08-26T14:58:43.299Z"
   },
   {
    "duration": 175,
    "start_time": "2024-08-26T14:58:43.351Z"
   },
   {
    "duration": 32,
    "start_time": "2024-08-26T14:58:43.528Z"
   },
   {
    "duration": 11,
    "start_time": "2024-08-26T14:58:43.563Z"
   },
   {
    "duration": 59,
    "start_time": "2024-08-26T14:58:43.577Z"
   },
   {
    "duration": 39,
    "start_time": "2024-08-26T14:58:43.639Z"
   },
   {
    "duration": 9827,
    "start_time": "2024-08-26T14:58:43.685Z"
   },
   {
    "duration": 8849,
    "start_time": "2024-08-26T14:58:53.532Z"
   },
   {
    "duration": 164,
    "start_time": "2024-08-26T14:59:02.385Z"
   },
   {
    "duration": 9210,
    "start_time": "2024-08-26T14:59:02.551Z"
   },
   {
    "duration": 8923,
    "start_time": "2024-08-26T14:59:11.764Z"
   },
   {
    "duration": 4,
    "start_time": "2024-08-26T14:59:20.692Z"
   },
   {
    "duration": 4,
    "start_time": "2024-08-26T14:59:20.700Z"
   },
   {
    "duration": 11,
    "start_time": "2024-08-26T14:59:20.734Z"
   },
   {
    "duration": 85,
    "start_time": "2024-08-26T14:59:20.748Z"
   },
   {
    "duration": 120,
    "start_time": "2024-08-26T14:59:20.836Z"
   },
   {
    "duration": 11,
    "start_time": "2024-08-26T14:59:20.960Z"
   },
   {
    "duration": 68,
    "start_time": "2024-08-26T14:59:20.974Z"
   },
   {
    "duration": 18,
    "start_time": "2024-08-26T14:59:21.045Z"
   },
   {
    "duration": 13,
    "start_time": "2024-08-26T14:59:21.066Z"
   },
   {
    "duration": 63,
    "start_time": "2024-08-26T14:59:21.082Z"
   },
   {
    "duration": 87,
    "start_time": "2024-08-26T15:02:18.195Z"
   },
   {
    "duration": 91,
    "start_time": "2024-08-26T15:04:23.569Z"
   },
   {
    "duration": 90,
    "start_time": "2024-08-26T15:05:36.649Z"
   },
   {
    "duration": 89,
    "start_time": "2024-08-26T15:06:56.978Z"
   },
   {
    "duration": 8,
    "start_time": "2024-08-26T15:07:31.009Z"
   },
   {
    "duration": 91,
    "start_time": "2024-08-26T15:09:52.106Z"
   },
   {
    "duration": 126,
    "start_time": "2024-08-26T15:09:59.097Z"
   },
   {
    "duration": 28,
    "start_time": "2024-08-26T15:10:06.451Z"
   },
   {
    "duration": 8,
    "start_time": "2024-08-26T15:10:19.028Z"
   },
   {
    "duration": 20,
    "start_time": "2024-08-26T15:10:22.706Z"
   },
   {
    "duration": 44,
    "start_time": "2024-08-26T15:10:30.009Z"
   },
   {
    "duration": 9296,
    "start_time": "2024-08-26T15:10:36.969Z"
   },
   {
    "duration": 109,
    "start_time": "2024-08-26T15:10:46.269Z"
   },
   {
    "duration": 9247,
    "start_time": "2024-08-26T15:10:46.538Z"
   },
   {
    "duration": 8722,
    "start_time": "2024-08-26T15:10:55.790Z"
   },
   {
    "duration": 4,
    "start_time": "2024-08-26T15:11:38.923Z"
   },
   {
    "duration": 3,
    "start_time": "2024-08-26T15:11:43.544Z"
   },
   {
    "duration": 12,
    "start_time": "2024-08-26T15:11:47.901Z"
   },
   {
    "duration": 28,
    "start_time": "2024-08-26T15:11:58.895Z"
   },
   {
    "duration": 65,
    "start_time": "2024-08-26T15:12:08.235Z"
   },
   {
    "duration": 8,
    "start_time": "2024-08-26T15:12:18.421Z"
   },
   {
    "duration": 16,
    "start_time": "2024-08-26T15:12:22.106Z"
   },
   {
    "duration": 17,
    "start_time": "2024-08-26T15:12:39.655Z"
   },
   {
    "duration": 12,
    "start_time": "2024-08-26T15:12:48.924Z"
   },
   {
    "duration": 14,
    "start_time": "2024-08-26T15:13:06.620Z"
   },
   {
    "duration": 1011,
    "start_time": "2024-08-26T15:19:32.350Z"
   },
   {
    "duration": 52,
    "start_time": "2024-08-26T15:19:46.405Z"
   },
   {
    "duration": 28,
    "start_time": "2024-08-26T15:19:57.396Z"
   },
   {
    "duration": 33,
    "start_time": "2024-08-26T15:20:42.327Z"
   },
   {
    "duration": 56,
    "start_time": "2024-08-26T15:35:04.624Z"
   },
   {
    "duration": 9,
    "start_time": "2024-08-26T15:41:17.953Z"
   },
   {
    "duration": 9,
    "start_time": "2024-08-26T15:42:42.741Z"
   },
   {
    "duration": 6,
    "start_time": "2024-08-26T15:45:25.195Z"
   },
   {
    "duration": 8,
    "start_time": "2024-08-26T15:46:26.880Z"
   },
   {
    "duration": 8,
    "start_time": "2024-08-26T15:46:43.514Z"
   },
   {
    "duration": 33,
    "start_time": "2024-08-26T15:50:08.390Z"
   },
   {
    "duration": 31,
    "start_time": "2024-08-26T15:50:22.025Z"
   },
   {
    "duration": 42,
    "start_time": "2024-08-26T15:50:51.463Z"
   },
   {
    "duration": 8,
    "start_time": "2024-08-26T15:51:27.849Z"
   },
   {
    "duration": 253,
    "start_time": "2024-08-26T15:52:19.672Z"
   },
   {
    "duration": 51,
    "start_time": "2024-08-26T15:53:01.574Z"
   },
   {
    "duration": 9,
    "start_time": "2024-08-26T15:55:43.031Z"
   },
   {
    "duration": 9,
    "start_time": "2024-08-26T15:55:49.684Z"
   },
   {
    "duration": 871,
    "start_time": "2024-08-26T15:58:10.332Z"
   },
   {
    "duration": 10,
    "start_time": "2024-08-26T15:58:31.298Z"
   },
   {
    "duration": 8,
    "start_time": "2024-08-26T15:59:01.417Z"
   },
   {
    "duration": 8,
    "start_time": "2024-08-26T15:59:33.450Z"
   },
   {
    "duration": 50,
    "start_time": "2024-08-26T16:03:07.013Z"
   },
   {
    "duration": 13,
    "start_time": "2024-08-26T16:03:43.850Z"
   },
   {
    "duration": 9,
    "start_time": "2024-08-26T16:04:30.398Z"
   },
   {
    "duration": 7,
    "start_time": "2024-08-26T16:05:44.555Z"
   },
   {
    "duration": 6,
    "start_time": "2024-08-26T16:06:00.960Z"
   },
   {
    "duration": 7,
    "start_time": "2024-08-26T16:06:12.406Z"
   },
   {
    "duration": 6,
    "start_time": "2024-08-26T16:06:22.678Z"
   },
   {
    "duration": 7,
    "start_time": "2024-08-26T16:08:09.266Z"
   },
   {
    "duration": 6,
    "start_time": "2024-08-26T16:08:27.072Z"
   },
   {
    "duration": 10,
    "start_time": "2024-08-26T16:10:44.625Z"
   },
   {
    "duration": 4,
    "start_time": "2024-08-26T16:16:49.512Z"
   },
   {
    "duration": 43,
    "start_time": "2024-08-26T16:17:03.540Z"
   },
   {
    "duration": 23,
    "start_time": "2024-08-26T16:17:43.030Z"
   },
   {
    "duration": 25,
    "start_time": "2024-08-26T16:18:08.393Z"
   },
   {
    "duration": 27,
    "start_time": "2024-08-26T16:21:03.941Z"
   },
   {
    "duration": 6325,
    "start_time": "2024-08-26T16:22:54.393Z"
   },
   {
    "duration": 2221,
    "start_time": "2024-08-27T13:48:16.906Z"
   },
   {
    "duration": 160,
    "start_time": "2024-08-27T13:48:19.130Z"
   },
   {
    "duration": 9,
    "start_time": "2024-08-27T13:48:19.292Z"
   },
   {
    "duration": 16,
    "start_time": "2024-08-27T13:48:19.303Z"
   },
   {
    "duration": 41,
    "start_time": "2024-08-27T13:48:19.321Z"
   },
   {
    "duration": 56,
    "start_time": "2024-08-27T13:48:19.364Z"
   },
   {
    "duration": 49,
    "start_time": "2024-08-27T13:48:19.423Z"
   },
   {
    "duration": 67,
    "start_time": "2024-08-27T13:48:19.474Z"
   },
   {
    "duration": 17,
    "start_time": "2024-08-27T13:48:19.543Z"
   },
   {
    "duration": 5,
    "start_time": "2024-08-27T13:48:19.563Z"
   },
   {
    "duration": 30,
    "start_time": "2024-08-27T13:48:19.570Z"
   },
   {
    "duration": 22,
    "start_time": "2024-08-27T13:48:19.602Z"
   },
   {
    "duration": 4434,
    "start_time": "2024-08-27T13:48:19.626Z"
   },
   {
    "duration": 4070,
    "start_time": "2024-08-27T13:48:24.062Z"
   },
   {
    "duration": 72,
    "start_time": "2024-08-27T13:48:28.134Z"
   },
   {
    "duration": 4096,
    "start_time": "2024-08-27T13:48:28.208Z"
   },
   {
    "duration": 4075,
    "start_time": "2024-08-27T13:48:32.305Z"
   },
   {
    "duration": 3,
    "start_time": "2024-08-27T13:48:36.396Z"
   },
   {
    "duration": 4,
    "start_time": "2024-08-27T13:48:36.401Z"
   },
   {
    "duration": 9,
    "start_time": "2024-08-27T13:48:36.406Z"
   },
   {
    "duration": 22,
    "start_time": "2024-08-27T13:48:36.417Z"
   },
   {
    "duration": 93,
    "start_time": "2024-08-27T13:48:36.441Z"
   },
   {
    "duration": 5,
    "start_time": "2024-08-27T13:48:36.536Z"
   },
   {
    "duration": 9,
    "start_time": "2024-08-27T13:48:36.596Z"
   },
   {
    "duration": 9,
    "start_time": "2024-08-27T13:48:36.607Z"
   },
   {
    "duration": 8,
    "start_time": "2024-08-27T13:48:36.618Z"
   },
   {
    "duration": 9,
    "start_time": "2024-08-27T13:48:36.628Z"
   },
   {
    "duration": 72,
    "start_time": "2024-08-27T13:48:36.640Z"
   },
   {
    "duration": 4,
    "start_time": "2024-08-27T13:48:36.714Z"
   },
   {
    "duration": 4,
    "start_time": "2024-08-27T13:48:36.719Z"
   },
   {
    "duration": 319,
    "start_time": "2024-08-27T13:48:36.724Z"
   },
   {
    "duration": 14,
    "start_time": "2024-08-27T13:48:37.044Z"
   },
   {
    "duration": 3111,
    "start_time": "2024-08-27T13:48:37.060Z"
   },
   {
    "duration": 2195,
    "start_time": "2024-08-27T14:44:32.991Z"
   },
   {
    "duration": 148,
    "start_time": "2024-08-27T14:44:35.188Z"
   },
   {
    "duration": 9,
    "start_time": "2024-08-27T14:44:35.337Z"
   },
   {
    "duration": 20,
    "start_time": "2024-08-27T14:44:35.349Z"
   },
   {
    "duration": 67,
    "start_time": "2024-08-27T14:44:35.371Z"
   },
   {
    "duration": 44,
    "start_time": "2024-08-27T14:44:35.440Z"
   },
   {
    "duration": 60,
    "start_time": "2024-08-27T14:44:35.486Z"
   },
   {
    "duration": 97,
    "start_time": "2024-08-27T14:44:35.548Z"
   },
   {
    "duration": 17,
    "start_time": "2024-08-27T14:44:35.647Z"
   },
   {
    "duration": 5,
    "start_time": "2024-08-27T14:44:35.667Z"
   },
   {
    "duration": 13,
    "start_time": "2024-08-27T14:44:35.674Z"
   },
   {
    "duration": 22,
    "start_time": "2024-08-27T14:44:35.709Z"
   },
   {
    "duration": 4409,
    "start_time": "2024-08-27T14:44:35.733Z"
   },
   {
    "duration": 4086,
    "start_time": "2024-08-27T14:44:40.144Z"
   },
   {
    "duration": 76,
    "start_time": "2024-08-27T14:44:44.234Z"
   },
   {
    "duration": 4200,
    "start_time": "2024-08-27T14:44:44.312Z"
   },
   {
    "duration": 3981,
    "start_time": "2024-08-27T14:44:48.514Z"
   },
   {
    "duration": 13,
    "start_time": "2024-08-27T14:44:52.497Z"
   },
   {
    "duration": 3,
    "start_time": "2024-08-27T14:44:52.511Z"
   },
   {
    "duration": 8,
    "start_time": "2024-08-27T14:44:52.516Z"
   },
   {
    "duration": 16,
    "start_time": "2024-08-27T14:44:52.526Z"
   },
   {
    "duration": 90,
    "start_time": "2024-08-27T14:44:52.544Z"
   },
   {
    "duration": 7,
    "start_time": "2024-08-27T14:44:52.636Z"
   },
   {
    "duration": 10,
    "start_time": "2024-08-27T14:44:52.645Z"
   },
   {
    "duration": 59,
    "start_time": "2024-08-27T14:44:52.656Z"
   },
   {
    "duration": 10,
    "start_time": "2024-08-27T14:44:52.717Z"
   },
   {
    "duration": 10,
    "start_time": "2024-08-27T14:44:52.729Z"
   },
   {
    "duration": 82,
    "start_time": "2024-08-27T14:44:52.742Z"
   },
   {
    "duration": 4,
    "start_time": "2024-08-27T14:44:52.826Z"
   },
   {
    "duration": 6,
    "start_time": "2024-08-27T14:44:52.832Z"
   },
   {
    "duration": 310,
    "start_time": "2024-08-27T14:44:52.840Z"
   },
   {
    "duration": 15,
    "start_time": "2024-08-27T14:44:53.152Z"
   },
   {
    "duration": 3093,
    "start_time": "2024-08-27T14:44:53.169Z"
   },
   {
    "duration": 28,
    "start_time": "2024-08-27T14:53:22.267Z"
   },
   {
    "duration": 29,
    "start_time": "2024-08-27T14:59:39.562Z"
   },
   {
    "duration": 24,
    "start_time": "2024-08-27T15:00:51.646Z"
   },
   {
    "duration": 28,
    "start_time": "2024-08-27T15:01:44.128Z"
   },
   {
    "duration": 28,
    "start_time": "2024-08-27T15:02:38.606Z"
   },
   {
    "duration": 6,
    "start_time": "2024-08-27T15:03:31.240Z"
   },
   {
    "duration": 6,
    "start_time": "2024-08-27T15:04:11.380Z"
   },
   {
    "duration": 29,
    "start_time": "2024-08-27T15:04:19.566Z"
   },
   {
    "duration": 8,
    "start_time": "2024-08-27T15:04:24.844Z"
   },
   {
    "duration": 7,
    "start_time": "2024-08-27T15:04:58.441Z"
   },
   {
    "duration": 29,
    "start_time": "2024-08-27T15:05:05.536Z"
   },
   {
    "duration": 7,
    "start_time": "2024-08-27T15:05:10.925Z"
   },
   {
    "duration": 2,
    "start_time": "2024-08-27T15:05:38.965Z"
   },
   {
    "duration": 106,
    "start_time": "2024-08-27T15:05:38.973Z"
   },
   {
    "duration": 8,
    "start_time": "2024-08-27T15:05:39.081Z"
   },
   {
    "duration": 23,
    "start_time": "2024-08-27T15:05:39.091Z"
   },
   {
    "duration": 38,
    "start_time": "2024-08-27T15:05:39.116Z"
   },
   {
    "duration": 55,
    "start_time": "2024-08-27T15:05:39.156Z"
   },
   {
    "duration": 39,
    "start_time": "2024-08-27T15:05:39.212Z"
   },
   {
    "duration": 74,
    "start_time": "2024-08-27T15:05:39.252Z"
   },
   {
    "duration": 17,
    "start_time": "2024-08-27T15:05:39.328Z"
   },
   {
    "duration": 5,
    "start_time": "2024-08-27T15:05:39.346Z"
   },
   {
    "duration": 16,
    "start_time": "2024-08-27T15:05:39.354Z"
   },
   {
    "duration": 44,
    "start_time": "2024-08-27T15:05:39.372Z"
   },
   {
    "duration": 4038,
    "start_time": "2024-08-27T15:05:39.417Z"
   },
   {
    "duration": 4051,
    "start_time": "2024-08-27T15:05:43.459Z"
   },
   {
    "duration": 38,
    "start_time": "2024-08-27T15:05:47.512Z"
   },
   {
    "duration": 4161,
    "start_time": "2024-08-27T15:05:47.552Z"
   },
   {
    "duration": 3897,
    "start_time": "2024-08-27T15:05:51.715Z"
   },
   {
    "duration": 3,
    "start_time": "2024-08-27T15:05:55.617Z"
   },
   {
    "duration": 3,
    "start_time": "2024-08-27T15:05:55.622Z"
   },
   {
    "duration": 8,
    "start_time": "2024-08-27T15:05:55.627Z"
   },
   {
    "duration": 17,
    "start_time": "2024-08-27T15:05:55.637Z"
   },
   {
    "duration": 91,
    "start_time": "2024-08-27T15:05:55.656Z"
   },
   {
    "duration": 5,
    "start_time": "2024-08-27T15:05:55.748Z"
   },
   {
    "duration": 61,
    "start_time": "2024-08-27T15:05:55.754Z"
   },
   {
    "duration": 11,
    "start_time": "2024-08-27T15:05:55.817Z"
   },
   {
    "duration": 8,
    "start_time": "2024-08-27T15:05:55.830Z"
   },
   {
    "duration": 26,
    "start_time": "2024-08-27T15:05:55.840Z"
   },
   {
    "duration": 56,
    "start_time": "2024-08-27T15:05:55.867Z"
   },
   {
    "duration": 5,
    "start_time": "2024-08-27T15:05:55.927Z"
   },
   {
    "duration": 4,
    "start_time": "2024-08-27T15:05:55.933Z"
   },
   {
    "duration": 4,
    "start_time": "2024-08-27T15:05:55.939Z"
   },
   {
    "duration": 30,
    "start_time": "2024-08-27T15:05:55.945Z"
   },
   {
    "duration": 35,
    "start_time": "2024-08-27T15:05:55.976Z"
   },
   {
    "duration": 2614,
    "start_time": "2024-08-27T15:05:56.013Z"
   },
   {
    "duration": 6,
    "start_time": "2024-08-27T15:07:35.520Z"
   },
   {
    "duration": 29,
    "start_time": "2024-08-27T15:10:01.491Z"
   },
   {
    "duration": 8,
    "start_time": "2024-08-27T15:10:32.524Z"
   },
   {
    "duration": 18,
    "start_time": "2024-08-27T15:14:30.567Z"
   },
   {
    "duration": 8,
    "start_time": "2024-08-27T15:15:34.337Z"
   },
   {
    "duration": 539,
    "start_time": "2024-08-27T15:22:58.351Z"
   },
   {
    "duration": 74,
    "start_time": "2024-08-27T15:23:11.970Z"
   },
   {
    "duration": 67,
    "start_time": "2024-08-27T15:23:41.100Z"
   },
   {
    "duration": 73,
    "start_time": "2024-08-27T15:24:06.786Z"
   },
   {
    "duration": 72,
    "start_time": "2024-08-27T15:24:38.951Z"
   },
   {
    "duration": 7,
    "start_time": "2024-08-27T15:31:46.407Z"
   },
   {
    "duration": 6,
    "start_time": "2024-08-27T15:32:55.699Z"
   },
   {
    "duration": 5,
    "start_time": "2024-08-27T15:33:02.725Z"
   },
   {
    "duration": 4,
    "start_time": "2024-08-27T15:33:08.075Z"
   },
   {
    "duration": 14,
    "start_time": "2024-08-27T15:34:33.727Z"
   },
   {
    "duration": 14,
    "start_time": "2024-08-27T15:34:55.646Z"
   },
   {
    "duration": 170,
    "start_time": "2024-08-27T15:38:08.585Z"
   },
   {
    "duration": 84,
    "start_time": "2024-08-27T15:40:26.080Z"
   },
   {
    "duration": 4,
    "start_time": "2024-08-27T15:41:03.640Z"
   },
   {
    "duration": 298,
    "start_time": "2024-08-27T15:41:11.544Z"
   },
   {
    "duration": 6,
    "start_time": "2024-08-27T15:42:15.471Z"
   },
   {
    "duration": 309,
    "start_time": "2024-08-27T15:42:17.326Z"
   },
   {
    "duration": 4,
    "start_time": "2024-08-27T15:44:24.295Z"
   },
   {
    "duration": 294,
    "start_time": "2024-08-27T15:44:28.740Z"
   },
   {
    "duration": 2197,
    "start_time": "2024-08-28T02:22:34.059Z"
   },
   {
    "duration": 167,
    "start_time": "2024-08-28T02:22:36.258Z"
   },
   {
    "duration": 9,
    "start_time": "2024-08-28T02:22:36.426Z"
   },
   {
    "duration": 14,
    "start_time": "2024-08-28T02:22:36.438Z"
   },
   {
    "duration": 41,
    "start_time": "2024-08-28T02:22:36.454Z"
   },
   {
    "duration": 63,
    "start_time": "2024-08-28T02:22:36.497Z"
   },
   {
    "duration": 44,
    "start_time": "2024-08-28T02:22:36.562Z"
   },
   {
    "duration": 98,
    "start_time": "2024-08-28T02:22:36.607Z"
   },
   {
    "duration": 28,
    "start_time": "2024-08-28T02:22:36.707Z"
   },
   {
    "duration": 6,
    "start_time": "2024-08-28T02:22:36.738Z"
   },
   {
    "duration": 14,
    "start_time": "2024-08-28T02:22:36.745Z"
   },
   {
    "duration": 22,
    "start_time": "2024-08-28T02:22:36.760Z"
   },
   {
    "duration": 4424,
    "start_time": "2024-08-28T02:22:36.783Z"
   },
   {
    "duration": 4078,
    "start_time": "2024-08-28T02:22:41.209Z"
   },
   {
    "duration": 65,
    "start_time": "2024-08-28T02:22:45.289Z"
   },
   {
    "duration": 4139,
    "start_time": "2024-08-28T02:22:45.355Z"
   },
   {
    "duration": 4008,
    "start_time": "2024-08-28T02:22:49.496Z"
   },
   {
    "duration": 3,
    "start_time": "2024-08-28T02:22:53.511Z"
   },
   {
    "duration": 3,
    "start_time": "2024-08-28T02:22:53.516Z"
   },
   {
    "duration": 6,
    "start_time": "2024-08-28T02:22:53.536Z"
   },
   {
    "duration": 16,
    "start_time": "2024-08-28T02:22:53.544Z"
   },
   {
    "duration": 89,
    "start_time": "2024-08-28T02:22:53.562Z"
   },
   {
    "duration": 6,
    "start_time": "2024-08-28T02:22:53.657Z"
   },
   {
    "duration": 9,
    "start_time": "2024-08-28T02:22:53.665Z"
   },
   {
    "duration": 61,
    "start_time": "2024-08-28T02:22:53.676Z"
   },
   {
    "duration": 7,
    "start_time": "2024-08-28T02:22:53.738Z"
   },
   {
    "duration": 22,
    "start_time": "2024-08-28T02:22:53.746Z"
   },
   {
    "duration": 64,
    "start_time": "2024-08-28T02:22:53.772Z"
   },
   {
    "duration": 5,
    "start_time": "2024-08-28T02:22:53.837Z"
   },
   {
    "duration": 4,
    "start_time": "2024-08-28T02:22:53.844Z"
   },
   {
    "duration": 321,
    "start_time": "2024-08-28T02:22:53.850Z"
   },
   {
    "duration": 26,
    "start_time": "2024-08-28T02:22:54.173Z"
   },
   {
    "duration": 6,
    "start_time": "2024-08-28T02:22:54.201Z"
   },
   {
    "duration": 26,
    "start_time": "2024-08-28T02:22:54.209Z"
   },
   {
    "duration": 62,
    "start_time": "2024-08-28T02:22:54.236Z"
   },
   {
    "duration": 4,
    "start_time": "2024-08-28T02:22:54.301Z"
   },
   {
    "duration": 309,
    "start_time": "2024-08-28T02:22:54.306Z"
   },
   {
    "duration": 288,
    "start_time": "2024-08-28T02:36:01.344Z"
   },
   {
    "duration": 291,
    "start_time": "2024-08-28T02:39:02.675Z"
   },
   {
    "duration": 2224,
    "start_time": "2024-08-28T14:47:13.476Z"
   },
   {
    "duration": 186,
    "start_time": "2024-08-28T14:47:15.702Z"
   },
   {
    "duration": 10,
    "start_time": "2024-08-28T14:47:15.890Z"
   },
   {
    "duration": 15,
    "start_time": "2024-08-28T14:47:15.903Z"
   },
   {
    "duration": 58,
    "start_time": "2024-08-28T14:47:15.919Z"
   },
   {
    "duration": 44,
    "start_time": "2024-08-28T14:47:15.978Z"
   },
   {
    "duration": 61,
    "start_time": "2024-08-28T14:47:16.024Z"
   },
   {
    "duration": 93,
    "start_time": "2024-08-28T14:47:16.087Z"
   },
   {
    "duration": 18,
    "start_time": "2024-08-28T14:47:16.181Z"
   },
   {
    "duration": 5,
    "start_time": "2024-08-28T14:47:16.202Z"
   },
   {
    "duration": 12,
    "start_time": "2024-08-28T14:47:16.208Z"
   },
   {
    "duration": 48,
    "start_time": "2024-08-28T14:47:16.222Z"
   },
   {
    "duration": 4434,
    "start_time": "2024-08-28T14:47:16.271Z"
   },
   {
    "duration": 4051,
    "start_time": "2024-08-28T14:47:20.707Z"
   },
   {
    "duration": 111,
    "start_time": "2024-08-28T14:47:24.760Z"
   },
   {
    "duration": 4162,
    "start_time": "2024-08-28T14:47:24.872Z"
   },
   {
    "duration": 3949,
    "start_time": "2024-08-28T14:47:29.037Z"
   },
   {
    "duration": 3,
    "start_time": "2024-08-28T14:47:32.988Z"
   },
   {
    "duration": 3,
    "start_time": "2024-08-28T14:47:32.993Z"
   },
   {
    "duration": 8,
    "start_time": "2024-08-28T14:47:32.998Z"
   },
   {
    "duration": 68,
    "start_time": "2024-08-28T14:47:33.007Z"
   },
   {
    "duration": 39,
    "start_time": "2024-08-28T14:47:33.076Z"
   },
   {
    "duration": 7,
    "start_time": "2024-08-28T14:47:33.171Z"
   },
   {
    "duration": 10,
    "start_time": "2024-08-28T14:47:33.180Z"
   },
   {
    "duration": 13,
    "start_time": "2024-08-28T14:47:33.192Z"
   },
   {
    "duration": 9,
    "start_time": "2024-08-28T14:47:33.207Z"
   },
   {
    "duration": 72,
    "start_time": "2024-08-28T14:47:33.217Z"
   },
   {
    "duration": 29,
    "start_time": "2024-08-28T14:47:33.293Z"
   },
   {
    "duration": 4,
    "start_time": "2024-08-28T14:47:33.324Z"
   },
   {
    "duration": 3,
    "start_time": "2024-08-28T14:47:33.330Z"
   },
   {
    "duration": 331,
    "start_time": "2024-08-28T14:47:33.370Z"
   },
   {
    "duration": 28,
    "start_time": "2024-08-28T14:47:33.703Z"
   },
   {
    "duration": 7,
    "start_time": "2024-08-28T14:47:33.733Z"
   },
   {
    "duration": 6,
    "start_time": "2024-08-28T14:47:33.742Z"
   },
   {
    "duration": 79,
    "start_time": "2024-08-28T14:47:33.750Z"
   },
   {
    "duration": 4,
    "start_time": "2024-08-28T14:47:33.831Z"
   },
   {
    "duration": 312,
    "start_time": "2024-08-28T14:47:33.837Z"
   },
   {
    "duration": 312,
    "start_time": "2024-08-28T14:49:21.316Z"
   },
   {
    "duration": 298,
    "start_time": "2024-08-28T14:55:07.278Z"
   },
   {
    "duration": 344,
    "start_time": "2024-08-28T14:55:25.353Z"
   },
   {
    "duration": 4,
    "start_time": "2024-08-28T14:57:58.764Z"
   },
   {
    "duration": 287,
    "start_time": "2024-08-28T14:58:00.983Z"
   },
   {
    "duration": 2275,
    "start_time": "2024-08-28T15:30:25.567Z"
   },
   {
    "duration": 154,
    "start_time": "2024-08-28T15:30:27.845Z"
   },
   {
    "duration": 13,
    "start_time": "2024-08-28T15:30:28.001Z"
   },
   {
    "duration": 15,
    "start_time": "2024-08-28T15:30:28.016Z"
   },
   {
    "duration": 48,
    "start_time": "2024-08-28T15:30:28.033Z"
   },
   {
    "duration": 66,
    "start_time": "2024-08-28T15:30:28.083Z"
   },
   {
    "duration": 58,
    "start_time": "2024-08-28T15:30:28.151Z"
   },
   {
    "duration": 58,
    "start_time": "2024-08-28T15:30:28.210Z"
   },
   {
    "duration": 18,
    "start_time": "2024-08-28T15:30:28.269Z"
   },
   {
    "duration": 5,
    "start_time": "2024-08-28T15:30:28.309Z"
   },
   {
    "duration": 12,
    "start_time": "2024-08-28T15:30:28.316Z"
   },
   {
    "duration": 22,
    "start_time": "2024-08-28T15:30:28.330Z"
   },
   {
    "duration": 4394,
    "start_time": "2024-08-28T15:30:28.354Z"
   },
   {
    "duration": 4083,
    "start_time": "2024-08-28T15:30:32.750Z"
   },
   {
    "duration": 77,
    "start_time": "2024-08-28T15:30:36.835Z"
   },
   {
    "duration": 4131,
    "start_time": "2024-08-28T15:30:36.913Z"
   },
   {
    "duration": 4036,
    "start_time": "2024-08-28T15:30:41.046Z"
   },
   {
    "duration": 3,
    "start_time": "2024-08-28T15:30:45.084Z"
   },
   {
    "duration": 3,
    "start_time": "2024-08-28T15:30:45.088Z"
   },
   {
    "duration": 10,
    "start_time": "2024-08-28T15:30:45.109Z"
   },
   {
    "duration": 18,
    "start_time": "2024-08-28T15:30:45.120Z"
   },
   {
    "duration": 89,
    "start_time": "2024-08-28T15:30:45.140Z"
   },
   {
    "duration": 6,
    "start_time": "2024-08-28T15:30:45.231Z"
   },
   {
    "duration": 9,
    "start_time": "2024-08-28T15:30:45.239Z"
   },
   {
    "duration": 61,
    "start_time": "2024-08-28T15:30:45.250Z"
   },
   {
    "duration": 8,
    "start_time": "2024-08-28T15:30:45.312Z"
   },
   {
    "duration": 30,
    "start_time": "2024-08-28T15:30:45.322Z"
   },
   {
    "duration": 78,
    "start_time": "2024-08-28T15:30:45.357Z"
   },
   {
    "duration": 4,
    "start_time": "2024-08-28T15:30:45.437Z"
   },
   {
    "duration": 4,
    "start_time": "2024-08-28T15:30:45.443Z"
   },
   {
    "duration": 300,
    "start_time": "2024-08-28T15:30:45.449Z"
   },
   {
    "duration": 30,
    "start_time": "2024-08-28T15:30:45.752Z"
   },
   {
    "duration": 5,
    "start_time": "2024-08-28T15:30:45.785Z"
   },
   {
    "duration": 7,
    "start_time": "2024-08-28T15:30:45.808Z"
   },
   {
    "duration": 61,
    "start_time": "2024-08-28T15:30:45.817Z"
   },
   {
    "duration": 4,
    "start_time": "2024-08-28T15:30:45.880Z"
   },
   {
    "duration": 329,
    "start_time": "2024-08-28T15:30:45.886Z"
   },
   {
    "duration": 322,
    "start_time": "2024-08-28T15:30:46.217Z"
   },
   {
    "duration": 322,
    "start_time": "2024-08-28T15:30:46.541Z"
   },
   {
    "duration": 316,
    "start_time": "2024-08-28T15:30:46.864Z"
   },
   {
    "duration": 2212,
    "start_time": "2024-09-03T23:46:39.150Z"
   },
   {
    "duration": 197,
    "start_time": "2024-09-03T23:46:41.365Z"
   },
   {
    "duration": 11,
    "start_time": "2024-09-03T23:46:41.563Z"
   },
   {
    "duration": 14,
    "start_time": "2024-09-03T23:46:41.576Z"
   },
   {
    "duration": 56,
    "start_time": "2024-09-03T23:46:41.593Z"
   },
   {
    "duration": 61,
    "start_time": "2024-09-03T23:46:41.650Z"
   },
   {
    "duration": 66,
    "start_time": "2024-09-03T23:46:41.713Z"
   },
   {
    "duration": 54,
    "start_time": "2024-09-03T23:46:41.785Z"
   },
   {
    "duration": 29,
    "start_time": "2024-09-03T23:46:41.842Z"
   },
   {
    "duration": 6,
    "start_time": "2024-09-03T23:46:41.873Z"
   },
   {
    "duration": 13,
    "start_time": "2024-09-03T23:46:41.881Z"
   },
   {
    "duration": 32,
    "start_time": "2024-09-03T23:46:41.895Z"
   },
   {
    "duration": 4639,
    "start_time": "2024-09-03T23:46:41.930Z"
   },
   {
    "duration": 4254,
    "start_time": "2024-09-03T23:46:46.574Z"
   },
   {
    "duration": 78,
    "start_time": "2024-09-03T23:46:50.831Z"
   },
   {
    "duration": 4335,
    "start_time": "2024-09-03T23:46:50.911Z"
   },
   {
    "duration": 4215,
    "start_time": "2024-09-03T23:46:55.248Z"
   },
   {
    "duration": 4,
    "start_time": "2024-09-03T23:46:59.470Z"
   },
   {
    "duration": 3,
    "start_time": "2024-09-03T23:46:59.475Z"
   },
   {
    "duration": 9,
    "start_time": "2024-09-03T23:46:59.480Z"
   },
   {
    "duration": 23,
    "start_time": "2024-09-03T23:46:59.490Z"
   },
   {
    "duration": 162,
    "start_time": "2024-09-03T23:46:59.515Z"
   },
   {
    "duration": 6,
    "start_time": "2024-09-03T23:46:59.679Z"
   },
   {
    "duration": 8,
    "start_time": "2024-09-03T23:46:59.687Z"
   },
   {
    "duration": 9,
    "start_time": "2024-09-03T23:46:59.696Z"
   },
   {
    "duration": 8,
    "start_time": "2024-09-03T23:46:59.707Z"
   },
   {
    "duration": 59,
    "start_time": "2024-09-03T23:46:59.716Z"
   },
   {
    "duration": 32,
    "start_time": "2024-09-03T23:46:59.777Z"
   },
   {
    "duration": 6,
    "start_time": "2024-09-03T23:46:59.810Z"
   },
   {
    "duration": 3,
    "start_time": "2024-09-03T23:46:59.818Z"
   },
   {
    "duration": 330,
    "start_time": "2024-09-03T23:46:59.823Z"
   },
   {
    "duration": 34,
    "start_time": "2024-09-03T23:47:00.155Z"
   },
   {
    "duration": 7,
    "start_time": "2024-09-03T23:47:00.191Z"
   },
   {
    "duration": 8,
    "start_time": "2024-09-03T23:47:00.200Z"
   },
   {
    "duration": 80,
    "start_time": "2024-09-03T23:47:00.209Z"
   },
   {
    "duration": 6,
    "start_time": "2024-09-03T23:47:00.292Z"
   },
   {
    "duration": 319,
    "start_time": "2024-09-03T23:47:00.299Z"
   },
   {
    "duration": 315,
    "start_time": "2024-09-03T23:47:00.621Z"
   },
   {
    "duration": 334,
    "start_time": "2024-09-03T23:47:00.939Z"
   },
   {
    "duration": 375,
    "start_time": "2024-09-03T23:47:01.275Z"
   },
   {
    "duration": 2178,
    "start_time": "2024-09-12T01:36:14.457Z"
   },
   {
    "duration": 146,
    "start_time": "2024-09-12T01:36:16.637Z"
   },
   {
    "duration": 8,
    "start_time": "2024-09-12T01:36:16.785Z"
   },
   {
    "duration": 15,
    "start_time": "2024-09-12T01:36:16.795Z"
   },
   {
    "duration": 51,
    "start_time": "2024-09-12T01:36:16.811Z"
   },
   {
    "duration": 43,
    "start_time": "2024-09-12T01:36:16.864Z"
   },
   {
    "duration": 61,
    "start_time": "2024-09-12T01:36:16.909Z"
   },
   {
    "duration": 64,
    "start_time": "2024-09-12T01:36:16.971Z"
   },
   {
    "duration": 17,
    "start_time": "2024-09-12T01:36:17.038Z"
   },
   {
    "duration": 6,
    "start_time": "2024-09-12T01:36:17.059Z"
   },
   {
    "duration": 13,
    "start_time": "2024-09-12T01:36:17.066Z"
   },
   {
    "duration": 44,
    "start_time": "2024-09-12T01:36:17.080Z"
   },
   {
    "duration": 4519,
    "start_time": "2024-09-12T01:36:17.126Z"
   },
   {
    "duration": 4747,
    "start_time": "2024-09-12T01:36:21.647Z"
   },
   {
    "duration": 54,
    "start_time": "2024-09-12T01:36:26.397Z"
   },
   {
    "duration": 4837,
    "start_time": "2024-09-12T01:36:26.452Z"
   },
   {
    "duration": 4027,
    "start_time": "2024-09-12T01:36:31.291Z"
   },
   {
    "duration": 3,
    "start_time": "2024-09-12T01:36:35.325Z"
   },
   {
    "duration": 3,
    "start_time": "2024-09-12T01:36:35.330Z"
   },
   {
    "duration": 9,
    "start_time": "2024-09-12T01:36:35.334Z"
   },
   {
    "duration": 21,
    "start_time": "2024-09-12T01:36:35.344Z"
   },
   {
    "duration": 95,
    "start_time": "2024-09-12T01:36:35.366Z"
   },
   {
    "duration": 5,
    "start_time": "2024-09-12T01:36:35.463Z"
   },
   {
    "duration": 61,
    "start_time": "2024-09-12T01:36:35.470Z"
   },
   {
    "duration": 9,
    "start_time": "2024-09-12T01:36:35.533Z"
   },
   {
    "duration": 8,
    "start_time": "2024-09-12T01:36:35.543Z"
   },
   {
    "duration": 22,
    "start_time": "2024-09-12T01:36:35.552Z"
   },
   {
    "duration": 69,
    "start_time": "2024-09-12T01:36:35.577Z"
   },
   {
    "duration": 4,
    "start_time": "2024-09-12T01:36:35.649Z"
   },
   {
    "duration": 4,
    "start_time": "2024-09-12T01:36:35.655Z"
   },
   {
    "duration": 302,
    "start_time": "2024-09-12T01:36:35.660Z"
   },
   {
    "duration": 28,
    "start_time": "2024-09-12T01:36:35.964Z"
   },
   {
    "duration": 6,
    "start_time": "2024-09-12T01:36:35.993Z"
   },
   {
    "duration": 24,
    "start_time": "2024-09-12T01:36:36.000Z"
   },
   {
    "duration": 63,
    "start_time": "2024-09-12T01:36:36.026Z"
   },
   {
    "duration": 4,
    "start_time": "2024-09-12T01:36:36.091Z"
   },
   {
    "duration": 317,
    "start_time": "2024-09-12T01:36:36.096Z"
   },
   {
    "duration": 306,
    "start_time": "2024-09-12T01:36:36.423Z"
   },
   {
    "duration": 308,
    "start_time": "2024-09-12T01:36:36.731Z"
   },
   {
    "duration": 318,
    "start_time": "2024-09-12T01:36:37.042Z"
   },
   {
    "duration": 185,
    "start_time": "2024-09-12T03:01:06.877Z"
   },
   {
    "duration": 2456,
    "start_time": "2024-09-12T03:01:26.005Z"
   },
   {
    "duration": 176,
    "start_time": "2024-09-12T03:01:29.375Z"
   },
   {
    "duration": 10,
    "start_time": "2024-09-12T03:01:35.867Z"
   },
   {
    "duration": 21,
    "start_time": "2024-09-12T03:01:42.229Z"
   },
   {
    "duration": 61,
    "start_time": "2024-09-12T03:01:48.063Z"
   },
   {
    "duration": 60,
    "start_time": "2024-09-12T03:01:48.984Z"
   },
   {
    "duration": 64,
    "start_time": "2024-09-12T03:01:55.305Z"
   },
   {
    "duration": 100,
    "start_time": "2024-09-12T03:02:00.867Z"
   },
   {
    "duration": 17,
    "start_time": "2024-09-12T03:02:07.243Z"
   },
   {
    "duration": 28,
    "start_time": "2024-09-12T03:02:13.904Z"
   },
   {
    "duration": 14,
    "start_time": "2024-09-12T03:02:16.564Z"
   },
   {
    "duration": 31,
    "start_time": "2024-09-12T03:02:23.218Z"
   },
   {
    "duration": 5636,
    "start_time": "2024-09-12T03:02:29.156Z"
   },
   {
    "duration": 4554,
    "start_time": "2024-09-12T03:02:43.379Z"
   },
   {
    "duration": 38,
    "start_time": "2024-09-12T03:02:58.627Z"
   },
   {
    "duration": 3,
    "start_time": "2024-09-12T03:03:11.378Z"
   },
   {
    "duration": 5,
    "start_time": "2024-09-12T03:04:26.396Z"
   },
   {
    "duration": 8,
    "start_time": "2024-09-12T03:04:39.621Z"
   },
   {
    "duration": 3,
    "start_time": "2024-09-12T03:05:01.950Z"
   },
   {
    "duration": 3,
    "start_time": "2024-09-12T03:05:23.821Z"
   },
   {
    "duration": 5,
    "start_time": "2024-09-12T03:05:35.745Z"
   },
   {
    "duration": 3,
    "start_time": "2024-09-12T03:05:45.851Z"
   },
   {
    "duration": 6,
    "start_time": "2024-09-12T03:06:02.522Z"
   },
   {
    "duration": 6,
    "start_time": "2024-09-12T03:08:00.626Z"
   },
   {
    "duration": 7,
    "start_time": "2024-09-12T03:13:25.937Z"
   },
   {
    "duration": 8,
    "start_time": "2024-09-12T03:17:02.177Z"
   },
   {
    "duration": 17,
    "start_time": "2024-09-12T03:17:09.390Z"
   },
   {
    "duration": 41,
    "start_time": "2024-09-12T03:17:14.988Z"
   },
   {
    "duration": 6,
    "start_time": "2024-09-12T03:17:16.611Z"
   },
   {
    "duration": 14,
    "start_time": "2024-09-12T03:17:23.566Z"
   },
   {
    "duration": 9,
    "start_time": "2024-09-12T03:17:30.171Z"
   },
   {
    "duration": 7,
    "start_time": "2024-09-12T03:17:36.852Z"
   },
   {
    "duration": 23,
    "start_time": "2024-09-12T03:17:56.567Z"
   },
   {
    "duration": 31,
    "start_time": "2024-09-12T03:18:09.559Z"
   },
   {
    "duration": 5,
    "start_time": "2024-09-12T03:18:19.533Z"
   },
   {
    "duration": 4,
    "start_time": "2024-09-12T03:18:21.465Z"
   },
   {
    "duration": 356,
    "start_time": "2024-09-12T03:19:03.430Z"
   },
   {
    "duration": 33,
    "start_time": "2024-09-12T03:20:00.571Z"
   },
   {
    "duration": 6,
    "start_time": "2024-09-12T03:20:05.090Z"
   },
   {
    "duration": 8,
    "start_time": "2024-09-12T03:20:06.384Z"
   },
   {
    "duration": 65,
    "start_time": "2024-09-12T03:20:39.305Z"
   },
   {
    "duration": 4,
    "start_time": "2024-09-12T03:21:25.365Z"
   },
   {
    "duration": 304,
    "start_time": "2024-09-12T03:21:26.762Z"
   },
   {
    "duration": 298,
    "start_time": "2024-09-12T03:21:42.798Z"
   },
   {
    "duration": 294,
    "start_time": "2024-09-12T03:21:53.906Z"
   },
   {
    "duration": 294,
    "start_time": "2024-09-12T03:22:05.234Z"
   },
   {
    "duration": 2198,
    "start_time": "2024-09-13T00:44:52.306Z"
   },
   {
    "duration": 162,
    "start_time": "2024-09-13T00:44:54.506Z"
   },
   {
    "duration": 9,
    "start_time": "2024-09-13T00:44:54.670Z"
   },
   {
    "duration": 15,
    "start_time": "2024-09-13T00:44:54.681Z"
   },
   {
    "duration": 46,
    "start_time": "2024-09-13T00:44:54.709Z"
   },
   {
    "duration": 61,
    "start_time": "2024-09-13T00:44:54.757Z"
   },
   {
    "duration": 50,
    "start_time": "2024-09-13T00:44:54.820Z"
   },
   {
    "duration": 71,
    "start_time": "2024-09-13T00:44:54.872Z"
   },
   {
    "duration": 17,
    "start_time": "2024-09-13T00:44:54.945Z"
   },
   {
    "duration": 7,
    "start_time": "2024-09-13T00:44:54.963Z"
   },
   {
    "duration": 13,
    "start_time": "2024-09-13T00:44:54.972Z"
   },
   {
    "duration": 23,
    "start_time": "2024-09-13T00:44:55.009Z"
   },
   {
    "duration": 4500,
    "start_time": "2024-09-13T00:44:55.034Z"
   },
   {
    "duration": 4115,
    "start_time": "2024-09-13T00:44:59.537Z"
   },
   {
    "duration": 78,
    "start_time": "2024-09-13T00:45:03.654Z"
   },
   {
    "duration": 4230,
    "start_time": "2024-09-13T00:45:03.735Z"
   },
   {
    "duration": 4055,
    "start_time": "2024-09-13T00:45:07.968Z"
   },
   {
    "duration": 3,
    "start_time": "2024-09-13T00:45:12.026Z"
   },
   {
    "duration": 4,
    "start_time": "2024-09-13T00:45:12.030Z"
   },
   {
    "duration": 8,
    "start_time": "2024-09-13T00:45:12.035Z"
   },
   {
    "duration": 7,
    "start_time": "2024-09-13T00:45:12.045Z"
   },
   {
    "duration": 61,
    "start_time": "2024-09-13T00:45:12.053Z"
   },
   {
    "duration": 99,
    "start_time": "2024-09-13T00:45:12.116Z"
   },
   {
    "duration": 7,
    "start_time": "2024-09-13T00:45:12.217Z"
   },
   {
    "duration": 8,
    "start_time": "2024-09-13T00:45:12.226Z"
   },
   {
    "duration": 11,
    "start_time": "2024-09-13T00:45:12.236Z"
   },
   {
    "duration": 61,
    "start_time": "2024-09-13T00:45:12.250Z"
   },
   {
    "duration": 25,
    "start_time": "2024-09-13T00:45:12.313Z"
   },
   {
    "duration": 31,
    "start_time": "2024-09-13T00:45:12.340Z"
   },
   {
    "duration": 5,
    "start_time": "2024-09-13T00:45:12.373Z"
   },
   {
    "duration": 31,
    "start_time": "2024-09-13T00:45:12.380Z"
   },
   {
    "duration": 333,
    "start_time": "2024-09-13T00:45:12.412Z"
   },
   {
    "duration": 31,
    "start_time": "2024-09-13T00:45:12.747Z"
   },
   {
    "duration": 6,
    "start_time": "2024-09-13T00:45:12.780Z"
   },
   {
    "duration": 25,
    "start_time": "2024-09-13T00:45:12.788Z"
   },
   {
    "duration": 69,
    "start_time": "2024-09-13T00:45:12.815Z"
   },
   {
    "duration": 23,
    "start_time": "2024-09-13T00:45:12.886Z"
   },
   {
    "duration": 403,
    "start_time": "2024-09-13T00:45:12.912Z"
   },
   {
    "duration": 309,
    "start_time": "2024-09-13T00:45:13.316Z"
   },
   {
    "duration": 318,
    "start_time": "2024-09-13T00:45:13.627Z"
   },
   {
    "duration": 325,
    "start_time": "2024-09-13T00:45:13.949Z"
   },
   {
    "duration": 513,
    "start_time": "2024-09-27T13:23:04.343Z"
   },
   {
    "duration": 150,
    "start_time": "2024-09-27T13:23:04.858Z"
   },
   {
    "duration": 9,
    "start_time": "2024-09-27T13:23:05.010Z"
   },
   {
    "duration": 16,
    "start_time": "2024-09-27T13:23:05.022Z"
   },
   {
    "duration": 61,
    "start_time": "2024-09-27T13:23:05.040Z"
   },
   {
    "duration": 44,
    "start_time": "2024-09-27T13:23:05.104Z"
   },
   {
    "duration": 62,
    "start_time": "2024-09-27T13:23:05.150Z"
   },
   {
    "duration": 56,
    "start_time": "2024-09-27T13:23:05.214Z"
   },
   {
    "duration": 31,
    "start_time": "2024-09-27T13:23:05.272Z"
   },
   {
    "duration": 5,
    "start_time": "2024-09-27T13:23:05.306Z"
   },
   {
    "duration": 13,
    "start_time": "2024-09-27T13:23:05.312Z"
   },
   {
    "duration": 22,
    "start_time": "2024-09-27T13:23:05.327Z"
   },
   {
    "duration": 4499,
    "start_time": "2024-09-27T13:23:05.351Z"
   },
   {
    "duration": 4196,
    "start_time": "2024-09-27T13:23:09.852Z"
   },
   {
    "duration": 62,
    "start_time": "2024-09-27T13:23:14.050Z"
   },
   {
    "duration": 4236,
    "start_time": "2024-09-27T13:23:14.113Z"
   },
   {
    "duration": 4042,
    "start_time": "2024-09-27T13:23:18.352Z"
   },
   {
    "duration": 3,
    "start_time": "2024-09-27T13:23:22.396Z"
   },
   {
    "duration": 2,
    "start_time": "2024-09-27T13:23:22.401Z"
   },
   {
    "duration": 8,
    "start_time": "2024-09-27T13:23:22.405Z"
   },
   {
    "duration": 8,
    "start_time": "2024-09-27T13:23:22.415Z"
   },
   {
    "duration": 76,
    "start_time": "2024-09-27T13:23:22.424Z"
   },
   {
    "duration": 94,
    "start_time": "2024-09-27T13:23:22.502Z"
   },
   {
    "duration": 5,
    "start_time": "2024-09-27T13:23:22.598Z"
   },
   {
    "duration": 8,
    "start_time": "2024-09-27T13:23:22.604Z"
   },
   {
    "duration": 9,
    "start_time": "2024-09-27T13:23:22.614Z"
   },
   {
    "duration": 8,
    "start_time": "2024-09-27T13:23:22.625Z"
   },
   {
    "duration": 24,
    "start_time": "2024-09-27T13:23:22.690Z"
   },
   {
    "duration": 30,
    "start_time": "2024-09-27T13:23:22.715Z"
   },
   {
    "duration": 5,
    "start_time": "2024-09-27T13:23:22.746Z"
   },
   {
    "duration": 5,
    "start_time": "2024-09-27T13:23:22.753Z"
   },
   {
    "duration": 356,
    "start_time": "2024-09-27T13:23:22.759Z"
   },
   {
    "duration": 34,
    "start_time": "2024-09-27T13:23:23.116Z"
   },
   {
    "duration": 12,
    "start_time": "2024-09-27T13:23:23.152Z"
   },
   {
    "duration": 25,
    "start_time": "2024-09-27T13:23:23.169Z"
   },
   {
    "duration": 65,
    "start_time": "2024-09-27T13:23:23.198Z"
   },
   {
    "duration": 5,
    "start_time": "2024-09-27T13:23:23.265Z"
   },
   {
    "duration": 317,
    "start_time": "2024-09-27T13:23:23.288Z"
   },
   {
    "duration": 326,
    "start_time": "2024-09-27T13:23:23.607Z"
   },
   {
    "duration": 316,
    "start_time": "2024-09-27T13:23:23.935Z"
   },
   {
    "duration": 319,
    "start_time": "2024-09-27T13:23:24.253Z"
   }
  ],
  "kernelspec": {
   "display_name": "Python 3",
   "language": "python",
   "name": "python3"
  },
  "language_info": {
   "codemirror_mode": {
    "name": "ipython",
    "version": 3
   },
   "file_extension": ".py",
   "mimetype": "text/x-python",
   "name": "python",
   "nbconvert_exporter": "python",
   "pygments_lexer": "ipython3",
   "version": "3.12.7"
  },
  "toc": {
   "base_numbering": 1,
   "nav_menu": {},
   "number_sections": true,
   "sideBar": true,
   "skip_h1_title": true,
   "title_cell": "Table of Contents",
   "title_sidebar": "Contents",
   "toc_cell": false,
   "toc_position": {},
   "toc_section_display": true,
   "toc_window_display": false
  }
 },
 "nbformat": 4,
 "nbformat_minor": 4
}
